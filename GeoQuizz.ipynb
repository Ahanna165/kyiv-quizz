{
 "cells": [
  {
   "cell_type": "code",
   "execution_count": null,
   "id": "a3a700f5",
   "metadata": {},
   "outputs": [],
   "source": []
  },
  {
   "cell_type": "code",
   "execution_count": 1,
   "id": "7442986e",
   "metadata": {},
   "outputs": [],
   "source": [
    "class QuizApp:\n",
    "    \n",
    "    def __init__(self,name):\n",
    "        self.name = name\n",
    "        self.score = 0\n",
    "    \n",
    "    def printMessage(self):\n",
    "        print(\"Hello \" +self.name+ \" !\\nWelcome to Geography Quiz!!!\\nWe will guide you through the geographic locations of Ukraine\")\n",
    "    \n",
    "    def game(self):\n",
    "        self.question1 = input(\"What is the biggest river of Ukraine?\\n\")\n",
    "        self.question2 = input(\"What is the region of Ukraine where the first women in Europe got the voting rights?\\n\")\n",
    "        self.question3 = input(\"What is the highest mountain in Ukraine?\\n\")\n",
    "        self.question4 = input(\"What is the city poluted by radiation after big nuclear disater in Ukraine?\\n\")\n",
    "        self.question5 = input(\"Does Ukraine has landscape type DESERT?\\n\")\n",
    "        self.question6 = input(\"Does Ukraine have access to the ocean?\\n\")\n",
    "        self.question7 = input(\"What is the biggest city on the Black Sea shore in Ukraine?\\n\")\n",
    "        self.question8 = input(\"Is the deepest subway station of the world located Ukraine?\\n\")\n",
    "        self.question9 = input(\"What is the biggest city near geagraphical midpoint of Europe?\\n(Ukrainian claim)\\n\")\n",
    "        self.consent = input(\"\\nWould you like to play the bonus round?\\n\")\n",
    "        if(self.consent.lower()==\"yes\"):\n",
    "            self.question10 = input(\"BONUS QUESTION:\\nWhat is the capital of Ukraine?\\n\")\n",
    "        else:\n",
    "            pass\n",
    "\n",
    "    def checkAnswer(self):\n",
    "        #Question 1\n",
    "        if(self.question1.lower()== \"dnipro\"):\n",
    "            print(\"Answer Q1: Dnipro. Correct answer!!You get 2 points for this answer.\\n\")\n",
    "            self.score +=2\n",
    "        else:\n",
    "            print(\"Answer Q1: Dnipro. Wrong answer. You get 0 points for this question.\\n\")\n",
    "         \n",
    "        #Question 2       \n",
    "        if(self.question2.lower()== \"crimea\"):\n",
    "            print(\"Answer Q2: Crimea. Correct answer!!You get 2 points for this answer.\\n\")\n",
    "            self.score +=2\n",
    "        else:\n",
    "            print(\"Answer Q2: Crimea. Wrong answer. You get 0 points for this question.\\n\")\n",
    "        \n",
    "        #Question 3\n",
    "        if(self.question3.lower()== \"hoverla\"):\n",
    "            print(\"Answer Q3: Hoverla. Correct answer!!You get 2 points for this answer.\\n\")\n",
    "            self.score +=2\n",
    "        else:\n",
    "            print(\"Answer Q3: Hoverla. Wrong answer. You get 0 points for this question.\\n\")\n",
    "        \n",
    "        #Question 4\n",
    "        if(self.question4.lower()== \"chornobyl\"):\n",
    "            print(\"Answer Q4: Chornobyl. Correct answer!!You get 2 points for this answer.\\n\")\n",
    "            self.score +=2\n",
    "        else:\n",
    "            print(\"Answer Q4: Chornobyl. Wrong answer. You get 0 points for this question.\\n\")\n",
    "        \n",
    "        #Question 5\n",
    "        if(self.question5.lower()== \"yes\"):\n",
    "            print(\"Answer Q5: yes. Correct answer!!You get 2 points for this answer.\\n\")\n",
    "            self.score +=2\n",
    "        else:\n",
    "            print(\"Answer Q5: yes. Wrong answer. You get 0 points for this question.\\n\")\n",
    "\n",
    "        #Question 6\n",
    "        if(self.question6.lower()== \"no\"):\n",
    "            print(\"Answer Q6: No. Correct answer!!You get 2 points for this answer.\\n\")\n",
    "            self.score +=2\n",
    "        else:\n",
    "            print(\"Answer Q6: No. Wrong answer. You get 0 points for this question.\\n\")\n",
    "            \n",
    "        #Question 7\n",
    "        if(self.question7.lower()== \"odessa\"):\n",
    "            print(\"Answer Q7: Odessa. Correct answer!!You get 2 points for this answer.\\n\")\n",
    "            self.score +=2\n",
    "        else:\n",
    "            print(\"Answer Q7: Odessa. Wrong answer. You get 0 points for this question.\\n\")\n",
    "            \n",
    "        #Question 8\n",
    "        if(self.question8.lower()== \"yes\"):\n",
    "            print(\"Answer Q8: Yes. Correct answer!!You get 2 points for this answer.\\n\")\n",
    "            self.score +=2\n",
    "        else:\n",
    "            print(\"Answer Q8: Yes. Wrong answer. You get 0 points for this question.\\n\")\n",
    "            \n",
    "        #Question 9\n",
    "        if(self.question9.lower()== \"uzhgorod\"):\n",
    "            print(\"Answer Q9: Uzhgorod. Correct answer!!You get 2 points for this answer.\\n\")\n",
    "            self.score +=2\n",
    "        else:\n",
    "            print(\"Answer Q9: Uzhgorod. Wrong answer. You get 0 points for this question.\\n\")\n",
    "            \n",
    "        #Question 10\n",
    "        if(self.consent.lower()==\"yes\"):\n",
    "            if(self.question10.lower()== \"kyiv\"):\n",
    "                print(\"Answer Q10: Kyiv. Correct answer!!You get 10 points for this answer.\\n\")\n",
    "                self.score +=12\n",
    "            else:\n",
    "                print(\"Answer Q10: Kyiv. Wrong answer. You get 0 points for this question.\\n\")\n",
    "\n",
    "    def printScore(self):\n",
    "        print(\"Your final score for the game is: \"+ str(self.score))\n",
    "\n",
    "    def gameResult(self):\n",
    "        if(self.score>16):\n",
    "            print(\"Congratulations!!!!!\"+self.name+\" . You have won the game\\n\")\n",
    "        else:\n",
    "            print(\":/ Sorry, \"+self.name+\" . You lost.\\n\") \n"
   ]
  },
  {
   "cell_type": "code",
   "execution_count": 2,
   "id": "75f77f91",
   "metadata": {},
   "outputs": [
    {
     "name": "stdin",
     "output_type": "stream",
     "text": [
      "Hello New User. Please enter your name: \n",
      " Hanna\n"
     ]
    }
   ],
   "source": [
    "quiz1 = QuizApp(input(\"Hello New User. Please enter your name: \\n\"))"
   ]
  },
  {
   "cell_type": "code",
   "execution_count": 3,
   "id": "35ab7d80",
   "metadata": {},
   "outputs": [
    {
     "name": "stdout",
     "output_type": "stream",
     "text": [
      "Hello Hanna !\n",
      "Welcome to Geography Quiz!!!\n",
      "We will guide you through the geographic locations of Ukraine\n"
     ]
    }
   ],
   "source": [
    "quiz1.printMessage()"
   ]
  },
  {
   "cell_type": "code",
   "execution_count": 4,
   "id": "3f8fc2d2",
   "metadata": {},
   "outputs": [
    {
     "name": "stdin",
     "output_type": "stream",
     "text": [
      "What is the biggest river of Ukraine?\n",
      " Dnipro\n",
      "What is the region of Ukraine where the first women in Europe got the voting rights?\n",
      " Crimea\n",
      "What is the highest mountain in Ukraine?\n",
      " Hoverla\n",
      "What is the city poluted by radiation after big nuclear disater in Ukraine?\n",
      " Chornobyl\n",
      "Does Ukraine has landscape type DESERT?\n",
      " yes\n",
      "Does Ukraine have access to the ocean?\n",
      " no\n",
      "What is the biggest city on the Black Sea shore in Ukraine?\n",
      " Odessa\n",
      "Is the deepest subway station of the world located Ukraine?\n",
      " yes\n",
      "What is the biggest city near geagraphical midpoint of Europe?\n",
      "(Ukrainian claim)\n",
      " Uzhgorod\n",
      "\n",
      "Would you like to play the bonus round?\n",
      " yes\n",
      "BONUS QUESTION:\n",
      "What is the capital of Ukraine?\n",
      " Kyiv\n"
     ]
    }
   ],
   "source": [
    "quiz1.game()"
   ]
  },
  {
   "cell_type": "code",
   "execution_count": 5,
   "id": "a25e4d6e",
   "metadata": {},
   "outputs": [
    {
     "name": "stdout",
     "output_type": "stream",
     "text": [
      "Answer Q1: Dnipro. Correct answer!!You get 2 points for this answer.\n",
      "\n",
      "Answer Q2: Crimea. Correct answer!!You get 2 points for this answer.\n",
      "\n",
      "Answer Q3: Hoverla. Correct answer!!You get 2 points for this answer.\n",
      "\n",
      "Answer Q4: Chornobyl. Correct answer!!You get 2 points for this answer.\n",
      "\n",
      "Answer Q5: yes. Correct answer!!You get 2 points for this answer.\n",
      "\n",
      "Answer Q6: No. Correct answer!!You get 2 points for this answer.\n",
      "\n",
      "Answer Q7: Odessa. Correct answer!!You get 2 points for this answer.\n",
      "\n",
      "Answer Q8: Yes. Correct answer!!You get 2 points for this answer.\n",
      "\n",
      "Answer Q9: Uzhgorod. Correct answer!!You get 2 points for this answer.\n",
      "\n",
      "Answer Q10: Kyiv. Correct answer!!You get 10 points for this answer.\n",
      "\n"
     ]
    }
   ],
   "source": [
    "quiz1.checkAnswer()"
   ]
  },
  {
   "cell_type": "code",
   "execution_count": 6,
   "id": "9912c5bb",
   "metadata": {},
   "outputs": [
    {
     "name": "stdout",
     "output_type": "stream",
     "text": [
      "Your final score for the game is: 30\n"
     ]
    }
   ],
   "source": [
    "quiz1.printScore()"
   ]
  },
  {
   "cell_type": "code",
   "execution_count": 7,
   "id": "9b5ee71c",
   "metadata": {},
   "outputs": [
    {
     "name": "stdout",
     "output_type": "stream",
     "text": [
      "Congratulations!!!!!Hanna . You have won the game\n",
      "\n"
     ]
    }
   ],
   "source": [
    "quiz1.gameResult()"
   ]
  },
  {
   "cell_type": "code",
   "execution_count": null,
   "id": "055830a8",
   "metadata": {},
   "outputs": [],
   "source": []
  }
 ],
 "metadata": {
  "kernelspec": {
   "display_name": "Python 3 (ipykernel)",
   "language": "python",
   "name": "python3"
  },
  "language_info": {
   "codemirror_mode": {
    "name": "ipython",
    "version": 3
   },
   "file_extension": ".py",
   "mimetype": "text/x-python",
   "name": "python",
   "nbconvert_exporter": "python",
   "pygments_lexer": "ipython3",
   "version": "3.11.4"
  }
 },
 "nbformat": 4,
 "nbformat_minor": 5
}
